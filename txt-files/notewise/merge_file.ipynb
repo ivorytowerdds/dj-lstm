{
 "cells": [
  {
   "cell_type": "code",
   "execution_count": 1,
   "metadata": {},
   "outputs": [],
   "source": [
    "import os"
   ]
  },
  {
   "cell_type": "code",
   "execution_count": 2,
   "metadata": {},
   "outputs": [
    {
     "data": {
      "text/plain": [
       "['be-ps-26.txt',\n",
       " 'be_son1d.txt',\n",
       " 'secondmv.txt',\n",
       " 'be_son1c.txt',\n",
       " 'be-ps-19.txt',\n",
       " 'beethov.txt',\n",
       " 'be-ps-29.txt',\n",
       " 'be-pv05r.txt',\n",
       " 'be-ps-12.txt',\n",
       " 'be-ps-22.txt',\n",
       " 'nf_be103.txt',\n",
       " 'be-ps-32.txt',\n",
       " 'be-ps-02.txt',\n",
       " 'be-pv15r.txt',\n",
       " 'be-ps-07.txt',\n",
       " 'be-ps-31.txt',\n",
       " 'firstmvm.txt',\n",
       " 'beet78n2.txt',\n",
       " 'belamoli.txt',\n",
       " 'be-ps-16.txt',\n",
       " 'besntina.txt',\n",
       " 'be-ps-15.txt',\n",
       " 'jg_bps27.txt',\n",
       " 'be-op6_.txt',\n",
       " 'be-ps-17.txt',\n",
       " 'be-ps-18.txt',\n",
       " 'be-ps-06.txt',\n",
       " 'be-ps-23.txt',\n",
       " 'beop53n2.txt',\n",
       " 'beps2.txt',\n",
       " 'be-pv10r.txt',\n",
       " 'be-ps-09.txt',\n",
       " 'be-ps-01.txt',\n",
       " 'beps1.txt',\n",
       " 'be-pv04r.txt',\n",
       " 'be-pv02r.txt',\n",
       " 'moonlite.txt',\n",
       " 'presto.txt',\n",
       " 'be-ps-05.txt',\n",
       " 'be-ps-20.txt',\n",
       " 'be-pv09r.txt',\n",
       " 'be-pv01r.txt',\n",
       " 'be_son1a.txt',\n",
       " 'be-pv07r.txt',\n",
       " 'be-ps-13.txt',\n",
       " 'be_so_f.txt',\n",
       " 'be-ich_.txt',\n",
       " 'thirdmvm.txt',\n",
       " 'beeth101.txt',\n",
       " 'beop53n1.txt',\n",
       " 'be-ps-28.txt',\n",
       " 'be-ps-10.txt',\n",
       " 'be-ps-03.txt',\n",
       " 'be-ps-30.txt',\n",
       " 'be-pv14r.txt',\n",
       " 'be-wald_.txt',\n",
       " 'beps3.txt',\n",
       " 'be_son1b.txt',\n",
       " 'beetson2.txt',\n",
       " 'sona23.txt',\n",
       " 'be-ps-21.txt',\n",
       " 'beet78n1.txt',\n",
       " 'be-ps-25.txt',\n",
       " 'be-pv19r.txt',\n",
       " 'be-ps-11.txt',\n",
       " 'be-ps-24.txt',\n",
       " 'be-ps-27.txt',\n",
       " 'be-pv20r.txt',\n",
       " 'gsp123.txt',\n",
       " 'be-ps-04.txt']"
      ]
     },
     "execution_count": 2,
     "metadata": {},
     "output_type": "execute_result"
    }
   ],
   "source": [
    "os.listdir('beethoven')"
   ]
  },
  {
   "cell_type": "code",
   "execution_count": 2,
   "metadata": {},
   "outputs": [],
   "source": [
    "#this is for merging files with volume \n",
    "import os\n",
    "filenames = os.listdir('beethoven')\n",
    "file=open('beethoven.txt','w')\n",
    "\n",
    "for filename in filenames:\n",
    "    if filename != \".ipynb_checkpoints\":\n",
    "        filepath='beethoven/'+filename\n",
    "\n",
    "        for line in open(filepath,encoding=\"utf8\", errors='ignore'):\n",
    "            file.writelines(line)\n",
    "        file.write(' ')\n",
    "\n",
    "file.close()\n"
   ]
  },
  {
   "cell_type": "code",
   "execution_count": 5,
   "metadata": {},
   "outputs": [],
   "source": [
    "# this is for merging files without volume\n",
    "import os\n",
    "filenames = os.listdir('note_txt')\n",
    "file=open('mozart.txt','w')\n",
    "\n",
    "for filename in filenames:\n",
    "    if filename != \".ipynb_checkpoints\":\n",
    "        filepath='note_txt/'+filename\n",
    "\n",
    "        for line in open(filepath,encoding=\"utf8\", errors='ignore'):\n",
    "            file.writelines(line)\n",
    "        file.write(' ')\n",
    "file.close()\n"
   ]
  },
  {
   "cell_type": "code",
   "execution_count": null,
   "metadata": {},
   "outputs": [],
   "source": []
  }
 ],
 "metadata": {
  "kernelspec": {
   "display_name": "Python 3",
   "language": "python",
   "name": "python3"
  },
  "language_info": {
   "codemirror_mode": {
    "name": "ipython",
    "version": 3
   },
   "file_extension": ".py",
   "mimetype": "text/x-python",
   "name": "python",
   "nbconvert_exporter": "python",
   "pygments_lexer": "ipython3",
   "version": "3.6.3"
  }
 },
 "nbformat": 4,
 "nbformat_minor": 2
}
