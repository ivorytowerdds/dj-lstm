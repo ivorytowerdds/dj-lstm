{
 "cells": [
  {
   "cell_type": "code",
   "execution_count": 4,
   "metadata": {},
   "outputs": [],
   "source": [
    "import os"
   ]
  },
  {
   "cell_type": "code",
   "execution_count": 10,
   "metadata": {},
   "outputs": [
    {
     "data": {
      "text/plain": [
       "'/Users/chenyishuang/Desktop/encoding-decoding/txt-files/notewise/note_txt'"
      ]
     },
     "execution_count": 10,
     "metadata": {},
     "output_type": "execute_result"
    }
   ],
   "source": [
    "mergefiledir = os.getcwd()+'/note_txt'\n",
    "mergefiledir"
   ]
  },
  {
   "cell_type": "code",
   "execution_count": 12,
   "metadata": {},
   "outputs": [
    {
     "data": {
      "text/plain": [
       "['.DS_Store',\n",
       " 'sonat-10.txt',\n",
       " 'sonat-9.txt',\n",
       " 'sonat-8.txt',\n",
       " 'sonat-3.txt',\n",
       " 'sonat-2.txt',\n",
       " 'sonat-1.txt',\n",
       " 'sonat-5.txt',\n",
       " 'sonat-4.txt',\n",
       " 'sonat-6.txt',\n",
       " 'sonat-7.txt']"
      ]
     },
     "execution_count": 12,
     "metadata": {},
     "output_type": "execute_result"
    }
   ],
   "source": [
    "os.listdir(mergefiledir)"
   ]
  },
  {
   "cell_type": "code",
   "execution_count": 21,
   "metadata": {},
   "outputs": [
    {
     "data": {
      "text/plain": [
       "'.DS_Store'"
      ]
     },
     "execution_count": 21,
     "metadata": {},
     "output_type": "execute_result"
    }
   ],
   "source": [
    "filenames[0]"
   ]
  },
  {
   "cell_type": "code",
   "execution_count": 23,
   "metadata": {},
   "outputs": [],
   "source": [
    "import os\n",
    "#获取目标文件夹的路径\n",
    "meragefiledir = os.getcwd()+'/note_txt'\n",
    "#获取当前文件夹中的文件名称列表\n",
    "filenames=os.listdir(meragefiledir)\n",
    "#打开当前目录下的result.txt文件，如果没有则创建\n",
    "#文件也可以是其他类型的格式，如result.js\n",
    "file=open('result.txt','w')\n",
    "#向文件中写入字符\n",
    "#file.write('python\\n')\n",
    " \n",
    "\n",
    "for filename in filenames:\n",
    "    if filename != '.DS_Store':\n",
    "        filepath=mergefiledir+'/'+filename\n",
    "\n",
    "        for line in open(filepath,encoding=\"utf8\", errors='ignore'):\n",
    "            file.writelines(line)\n",
    "        file.write(' ')\n",
    " \n",
    "file.close()\n"
   ]
  },
  {
   "cell_type": "code",
   "execution_count": null,
   "metadata": {},
   "outputs": [],
   "source": []
  }
 ],
 "metadata": {
  "kernelspec": {
   "display_name": "Python 3",
   "language": "python",
   "name": "python3"
  },
  "language_info": {
   "codemirror_mode": {
    "name": "ipython",
    "version": 3
   },
   "file_extension": ".py",
   "mimetype": "text/x-python",
   "name": "python",
   "nbconvert_exporter": "python",
   "pygments_lexer": "ipython3",
   "version": "3.6.4"
  }
 },
 "nbformat": 4,
 "nbformat_minor": 2
}
